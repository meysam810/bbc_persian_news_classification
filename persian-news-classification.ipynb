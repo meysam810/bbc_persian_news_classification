{
 "cells": [
  {
   "cell_type": "markdown",
   "id": "dabb4512-3a24-4ba5-94aa-b4d7001406a0",
   "metadata": {},
   "source": [
    "# Persian News Classification\n",
    "In this notebook, I tried to categorize BBC Persian news using the title. With help of  hazm library for preprocessing the texts and sklearn for train model.\n",
    "\n",
    "## Overview \n",
    "### 1) Understand the data (Shape , missing values  , ...)\n",
    "### 2) Data Preprocessing \n",
    "### 4) Model Building \n",
    "### 5) Visualization Result"
   ]
  },
  {
   "cell_type": "code",
   "execution_count": 1,
   "id": "1fe468ee-4ebf-4c2a-91d7-a3cc13f9a176",
   "metadata": {},
   "outputs": [],
   "source": [
    "# Read Data\n",
    "import pandas as pd\n",
    "import numpy as np\n",
    "\n",
    "\n",
    "# Train\n",
    "from sklearn.naive_bayes import MultinomialNB\n",
    "import tensorflow_text as text\n",
    "import tensorflow_hub as hub\n",
    "import tensorflow as tf\n",
    "\n",
    "# Preprocessing\n",
    "from sklearn.model_selection import train_test_split\n",
    "from stopwords_guilannlp import stopwords_output\n",
    "from hazm import *\n",
    "import re\n",
    "\n",
    "# Visualization\n",
    "from sklearn.metrics import accuracy_score , classification_report\n",
    "from tensorflow.keras.utils import plot_model\n",
    "import matplotlib.pyplot as plt\n",
    "%matplotlib inline\n"
   ]
  },
  {
   "cell_type": "code",
   "execution_count": 2,
   "id": "0e9d09c6-51b6-437b-9a50-02715b4177f5",
   "metadata": {},
   "outputs": [],
   "source": [
    "df = pd.read_json('bbcpersian.json')"
   ]
  },
  {
   "cell_type": "code",
   "execution_count": 3,
   "id": "704d5b37-0547-40bc-9692-6443757c8f2d",
   "metadata": {},
   "outputs": [
    {
     "data": {
      "text/html": [
       "<div>\n",
       "<style scoped>\n",
       "    .dataframe tbody tr th:only-of-type {\n",
       "        vertical-align: middle;\n",
       "    }\n",
       "\n",
       "    .dataframe tbody tr th {\n",
       "        vertical-align: top;\n",
       "    }\n",
       "\n",
       "    .dataframe thead th {\n",
       "        text-align: right;\n",
       "    }\n",
       "</style>\n",
       "<table border=\"1\" class=\"dataframe\">\n",
       "  <thead>\n",
       "    <tr style=\"text-align: right;\">\n",
       "      <th></th>\n",
       "      <th>category</th>\n",
       "      <th>link</th>\n",
       "      <th>title</th>\n",
       "      <th>publish_time</th>\n",
       "      <th>related_topics</th>\n",
       "      <th>body</th>\n",
       "    </tr>\n",
       "  </thead>\n",
       "  <tbody>\n",
       "    <tr>\n",
       "      <th>0</th>\n",
       "      <td>business</td>\n",
       "      <td>https://www.bbc.com/persian/business-53642810</td>\n",
       "      <td>تهران و دوبی؛ ملاقات مجازی، منافع حقیقی</td>\n",
       "      <td>۱۳ مرداد ۱۳۹۹ - ۳ اوت ۲۰۲۰</td>\n",
       "      <td>[جامعه ایران, روابط خارجی ایران, عربستان سعودی...</td>\n",
       "      <td>برای پخش این فایل لطفا جاوا اسکریپت را فعال یا...</td>\n",
       "    </tr>\n",
       "    <tr>\n",
       "      <th>1</th>\n",
       "      <td>world</td>\n",
       "      <td>https://www.bbc.com/persian/world-58579904</td>\n",
       "      <td>نظرسنجی حاکی از اضطراب نسل جوان درباره تغییر ا...</td>\n",
       "      <td>۲۵ شهریور ۱۴۰۰ - ۱۶ سپتامبر ۲۰۲۱</td>\n",
       "      <td>[تغییرات آب و هوایی, علمی]</td>\n",
       "      <td>\\n\\n\\nیک نظرسنجی تازه جهانی نشان دهنده عمق اضط...</td>\n",
       "    </tr>\n",
       "    <tr>\n",
       "      <th>2</th>\n",
       "      <td>arts</td>\n",
       "      <td>https://www.bbc.com/persian/arts-54913866</td>\n",
       "      <td>جفری توبین، خبرنگار ارشد نیویورکر برای عورت‌نم...</td>\n",
       "      <td>۲۲ آبان ۱۳۹۹ - ۱۲ نوامبر ۲۰۲۰</td>\n",
       "      <td>[میراث فرهنگی, ایالات متحده آمریکا]</td>\n",
       "      <td>\\n\\n\\nمجله فرهنگی نیویورکر جفری توبین، یکی از ...</td>\n",
       "    </tr>\n",
       "    <tr>\n",
       "      <th>3</th>\n",
       "      <td>sport</td>\n",
       "      <td>https://www.bbc.com/persian/sport-52083137</td>\n",
       "      <td>از جنگل سیاه تا لیورپول؛ ماجرای سفر رویایی یور...</td>\n",
       "      <td>۱۰ فروردین ۱۳۹۹ - ۲۹ مارس ۲۰۲۰</td>\n",
       "      <td>[فوتبال, آلمان, ورزش]</td>\n",
       "      <td>\\nسم شرینگهامبی‌بی‌سی\\n\\n\\nینس هاس هنوز اولین ...</td>\n",
       "    </tr>\n",
       "    <tr>\n",
       "      <th>4</th>\n",
       "      <td>arts</td>\n",
       "      <td>https://www.bbc.com/persian/arts-56242134</td>\n",
       "      <td>گفتگو با شیدا بازیار؛ انقلاب و ۴۰ سال بعد از آ...</td>\n",
       "      <td>۱۱ اسفند ۱۳۹۹ - ۱ مارس ۲۰۲۱</td>\n",
       "      <td>[کتاب و ادبیات, ادبیات جهان, ایران]</td>\n",
       "      <td>برای پخش این فایل لطفا جاوا اسکریپت را فعال یا...</td>\n",
       "    </tr>\n",
       "  </tbody>\n",
       "</table>\n",
       "</div>"
      ],
      "text/plain": [
       "   category                                           link  \\\n",
       "0  business  https://www.bbc.com/persian/business-53642810   \n",
       "1     world     https://www.bbc.com/persian/world-58579904   \n",
       "2      arts      https://www.bbc.com/persian/arts-54913866   \n",
       "3     sport     https://www.bbc.com/persian/sport-52083137   \n",
       "4      arts      https://www.bbc.com/persian/arts-56242134   \n",
       "\n",
       "                                               title  \\\n",
       "0            تهران و دوبی؛ ملاقات مجازی، منافع حقیقی   \n",
       "1  نظرسنجی حاکی از اضطراب نسل جوان درباره تغییر ا...   \n",
       "2  جفری توبین، خبرنگار ارشد نیویورکر برای عورت‌نم...   \n",
       "3  از جنگل سیاه تا لیورپول؛ ماجرای سفر رویایی یور...   \n",
       "4  گفتگو با شیدا بازیار؛ انقلاب و ۴۰ سال بعد از آ...   \n",
       "\n",
       "                       publish_time  \\\n",
       "0        ۱۳ مرداد ۱۳۹۹ - ۳ اوت ۲۰۲۰   \n",
       "1  ۲۵ شهریور ۱۴۰۰ - ۱۶ سپتامبر ۲۰۲۱   \n",
       "2     ۲۲ آبان ۱۳۹۹ - ۱۲ نوامبر ۲۰۲۰   \n",
       "3    ۱۰ فروردین ۱۳۹۹ - ۲۹ مارس ۲۰۲۰   \n",
       "4       ۱۱ اسفند ۱۳۹۹ - ۱ مارس ۲۰۲۱   \n",
       "\n",
       "                                      related_topics  \\\n",
       "0  [جامعه ایران, روابط خارجی ایران, عربستان سعودی...   \n",
       "1                         [تغییرات آب و هوایی, علمی]   \n",
       "2                [میراث فرهنگی, ایالات متحده آمریکا]   \n",
       "3                              [فوتبال, آلمان, ورزش]   \n",
       "4                [کتاب و ادبیات, ادبیات جهان, ایران]   \n",
       "\n",
       "                                                body  \n",
       "0  برای پخش این فایل لطفا جاوا اسکریپت را فعال یا...  \n",
       "1  \\n\\n\\nیک نظرسنجی تازه جهانی نشان دهنده عمق اضط...  \n",
       "2  \\n\\n\\nمجله فرهنگی نیویورکر جفری توبین، یکی از ...  \n",
       "3  \\nسم شرینگهامبی‌بی‌سی\\n\\n\\nینس هاس هنوز اولین ...  \n",
       "4  برای پخش این فایل لطفا جاوا اسکریپت را فعال یا...  "
      ]
     },
     "execution_count": 3,
     "metadata": {},
     "output_type": "execute_result"
    }
   ],
   "source": [
    "df.head()"
   ]
  },
  {
   "cell_type": "code",
   "execution_count": 4,
   "id": "ae5ac70a-4076-4dfe-b6ee-796ae1b0fa07",
   "metadata": {},
   "outputs": [
    {
     "data": {
      "text/plain": [
       "category          0\n",
       "link              0\n",
       "title             0\n",
       "publish_time      0\n",
       "related_topics    0\n",
       "body              0\n",
       "dtype: int64"
      ]
     },
     "execution_count": 4,
     "metadata": {},
     "output_type": "execute_result"
    }
   ],
   "source": [
    "df.isnull().sum()"
   ]
  },
  {
   "cell_type": "code",
   "execution_count": 5,
   "id": "2d16a48f-5c5e-4228-a826-182be59a4fa1",
   "metadata": {},
   "outputs": [
    {
     "data": {
      "text/plain": [
       "iran                   754\n",
       "sport                  735\n",
       "world                  714\n",
       "business               372\n",
       "arts                   359\n",
       "science                258\n",
       "afghanistan            232\n",
       "magazine               107\n",
       "iran-features          100\n",
       "world-features          80\n",
       "blog-viewpoints         29\n",
       "vert-earth               3\n",
       "vert-fut                 3\n",
       "vert-cul                 3\n",
       "blogs                    2\n",
       "interactivity            2\n",
       "58182718                 1\n",
       "58092745                 1\n",
       "58008330                 1\n",
       "institutional            1\n",
       "56026690                 1\n",
       "59033766                 1\n",
       "53817930                 1\n",
       "57938483                 1\n",
       "59130485                 1\n",
       "58955332                 1\n",
       "58168992                 1\n",
       "58850860                 1\n",
       "57816007                 1\n",
       "57816004                 1\n",
       "58421548                 1\n",
       "57213241                 1\n",
       "58895066                 1\n",
       "afghan-press-review      1\n",
       "58885163                 1\n",
       "57959492                 1\n",
       "58813922                 1\n",
       "58798919                 1\n",
       "56411524                 1\n",
       "58812805                 1\n",
       "58700848                 1\n",
       "59033761                 1\n",
       "58944201                 1\n",
       "Name: category, dtype: int64"
      ]
     },
     "execution_count": 5,
     "metadata": {},
     "output_type": "execute_result"
    }
   ],
   "source": [
    "df.category.value_counts()"
   ]
  },
  {
   "cell_type": "code",
   "execution_count": 6,
   "id": "d78beff5-b9cb-497c-9be0-08298eec9a97",
   "metadata": {
    "scrolled": true,
    "tags": []
   },
   "outputs": [],
   "source": [
    "# Select balance data  from whole data \n",
    "df = df.loc[df['category'].isin(['iran','sport','world'])]"
   ]
  },
  {
   "cell_type": "code",
   "execution_count": 7,
   "id": "b11f9d07-9364-4952-bd83-479a402983b7",
   "metadata": {},
   "outputs": [],
   "source": [
    "puncs = ['،', '.', ',', ':', ';', '\"',\"'\",'/','\\\\','_','-']\n",
    "\n",
    "normalizer = Normalizer()\n",
    "\n",
    "# Create custom stop_word \n",
    "def load_stopwords():\n",
    "    f = open(\"fa_stop_words.txt\", \"r\", encoding='utf8')\n",
    "    stopwords = f.read()\n",
    "    stopwords = stopwords.split('\\n')\n",
    "    stopwords = set(stopwords)\n",
    "    custom_stop_words = {'آنكه','آيا','بدين','براين','بنابر','میشه','میکنه','باشه','سلام','میکشه','اونی','و','در','از','چه'}\n",
    "    stopwords = stopwords  | custom_stop_words\n",
    "    stopwords = list(stopwords)[1:]\n",
    "    unwanted_num = {'خوش','بهتر','بد','خوب','نیستم','عالی','نیست','فوق','بهترین','خیلی', 'نبود'} \n",
    "    stopwords = [ele for ele in stopwords if ele not in unwanted_num]\n",
    "    return stopwords\n",
    "\n",
    "\n",
    "def clean_doc(doc):\n",
    "    doc = normalizer.normalize(doc) # Normalize document using Hazm Normalizer\n",
    "    tokenized = word_tokenize(doc)  # Tokenize text\n",
    "    tokens = []\n",
    "    for t in tokenized:\n",
    "      temp = t\n",
    "      for p in puncs:\n",
    "        temp = temp.replace(p, '')\n",
    "      tokens.append(temp)\n",
    "    stop_set = load_stopwords()\n",
    "    tokens = [w for w in tokens if not w in stop_set] # Remove stop words\n",
    "    \n",
    "    tokens = [w for w in tokens if not len(w) <= 1]  # Clean words\n",
    "    tokens = [w for w in tokens if not w.isdigit()] #  Remove digits \n",
    "    tokens =  [w for w in tokens if not re.match(r'[A-Z]+', w, re.I)] # Remove english letters \n",
    "    tokens = ' '.join(tokens)\n",
    "    return tokens"
   ]
  },
  {
   "cell_type": "code",
   "execution_count": 8,
   "id": "e4eeced5-a45b-4efd-b3a4-c9dcdeb3b03c",
   "metadata": {},
   "outputs": [],
   "source": [
    "df.title = df['title'].apply(lambda x :clean_doc(x)) "
   ]
  },
  {
   "cell_type": "code",
   "execution_count": 9,
   "id": "146b3054-292a-47a9-b20d-4c9482ce1823",
   "metadata": {},
   "outputs": [
    {
     "data": {
      "text/html": [
       "<div>\n",
       "<style scoped>\n",
       "    .dataframe tbody tr th:only-of-type {\n",
       "        vertical-align: middle;\n",
       "    }\n",
       "\n",
       "    .dataframe tbody tr th {\n",
       "        vertical-align: top;\n",
       "    }\n",
       "\n",
       "    .dataframe thead th {\n",
       "        text-align: right;\n",
       "    }\n",
       "</style>\n",
       "<table border=\"1\" class=\"dataframe\">\n",
       "  <thead>\n",
       "    <tr style=\"text-align: right;\">\n",
       "      <th></th>\n",
       "      <th>category</th>\n",
       "      <th>link</th>\n",
       "      <th>title</th>\n",
       "      <th>publish_time</th>\n",
       "      <th>related_topics</th>\n",
       "      <th>body</th>\n",
       "    </tr>\n",
       "  </thead>\n",
       "  <tbody>\n",
       "    <tr>\n",
       "      <th>1</th>\n",
       "      <td>world</td>\n",
       "      <td>https://www.bbc.com/persian/world-58579904</td>\n",
       "      <td>نظرسنجی حاکی اضطراب نسل جوان تغییر اقلیم</td>\n",
       "      <td>۲۵ شهریور ۱۴۰۰ - ۱۶ سپتامبر ۲۰۲۱</td>\n",
       "      <td>[تغییرات آب و هوایی, علمی]</td>\n",
       "      <td>\\n\\n\\nیک نظرسنجی تازه جهانی نشان دهنده عمق اضط...</td>\n",
       "    </tr>\n",
       "    <tr>\n",
       "      <th>3</th>\n",
       "      <td>sport</td>\n",
       "      <td>https://www.bbc.com/persian/sport-52083137</td>\n",
       "      <td>جنگل سیاه لیورپول ماجرای سفر رویایی یورگن کلوپ</td>\n",
       "      <td>۱۰ فروردین ۱۳۹۹ - ۲۹ مارس ۲۰۲۰</td>\n",
       "      <td>[فوتبال, آلمان, ورزش]</td>\n",
       "      <td>\\nسم شرینگهامبی‌بی‌سی\\n\\n\\nینس هاس هنوز اولین ...</td>\n",
       "    </tr>\n",
       "    <tr>\n",
       "      <th>6</th>\n",
       "      <td>world</td>\n",
       "      <td>https://www.bbc.com/persian/world-55116455</td>\n",
       "      <td>نقض حقوق زنان آزمون بکارت بریتانیا ممنوع</td>\n",
       "      <td>۸ آذر ۱۳۹۹ - ۲۸ نوامبر ۲۰۲۰</td>\n",
       "      <td>[بریتانیا, زنان, سلامت زنان, حقوق زنان]</td>\n",
       "      <td>برای پخش این فایل لطفا جاوا اسکریپت را فعال یا...</td>\n",
       "    </tr>\n",
       "    <tr>\n",
       "      <th>9</th>\n",
       "      <td>world</td>\n",
       "      <td>https://www.bbc.com/persian/world-58596292</td>\n",
       "      <td>بحران انسانی مرز مکزیک آمریکا تجمع پناهجو پل مرزی</td>\n",
       "      <td>۲۶ شهریور ۱۴۰۰ - ۱۷ سپتامبر ۲۰۲۱</td>\n",
       "      <td>[پناهندگان و پناهجویان, ایالات متحده آمریکا]</td>\n",
       "      <td>\\n\\n\\nجمع شدن حدود ۱۰ هزار پناهجو در اطراف پل ...</td>\n",
       "    </tr>\n",
       "    <tr>\n",
       "      <th>10</th>\n",
       "      <td>sport</td>\n",
       "      <td>https://www.bbc.com/persian/sport-58071798</td>\n",
       "      <td>المپیک توکیو محمد هادی ساروی کشتی فرنگی مدال برنز</td>\n",
       "      <td>۱۲ مرداد ۱۴۰۰ - ۳ اوت ۲۰۲۱</td>\n",
       "      <td>[کشتی, ورزش ایران, المپیک, ورزش]</td>\n",
       "      <td>\\n\\n\\nمحمدهادی ساروی، با پیروزی در دیدار رده‌ب...</td>\n",
       "    </tr>\n",
       "  </tbody>\n",
       "</table>\n",
       "</div>"
      ],
      "text/plain": [
       "   category                                        link  \\\n",
       "1     world  https://www.bbc.com/persian/world-58579904   \n",
       "3     sport  https://www.bbc.com/persian/sport-52083137   \n",
       "6     world  https://www.bbc.com/persian/world-55116455   \n",
       "9     world  https://www.bbc.com/persian/world-58596292   \n",
       "10    sport  https://www.bbc.com/persian/sport-58071798   \n",
       "\n",
       "                                                title  \\\n",
       "1            نظرسنجی حاکی اضطراب نسل جوان تغییر اقلیم   \n",
       "3      جنگل سیاه لیورپول ماجرای سفر رویایی یورگن کلوپ   \n",
       "6            نقض حقوق زنان آزمون بکارت بریتانیا ممنوع   \n",
       "9   بحران انسانی مرز مکزیک آمریکا تجمع پناهجو پل مرزی   \n",
       "10  المپیک توکیو محمد هادی ساروی کشتی فرنگی مدال برنز   \n",
       "\n",
       "                        publish_time  \\\n",
       "1   ۲۵ شهریور ۱۴۰۰ - ۱۶ سپتامبر ۲۰۲۱   \n",
       "3     ۱۰ فروردین ۱۳۹۹ - ۲۹ مارس ۲۰۲۰   \n",
       "6        ۸ آذر ۱۳۹۹ - ۲۸ نوامبر ۲۰۲۰   \n",
       "9   ۲۶ شهریور ۱۴۰۰ - ۱۷ سپتامبر ۲۰۲۱   \n",
       "10        ۱۲ مرداد ۱۴۰۰ - ۳ اوت ۲۰۲۱   \n",
       "\n",
       "                                  related_topics  \\\n",
       "1                     [تغییرات آب و هوایی, علمی]   \n",
       "3                          [فوتبال, آلمان, ورزش]   \n",
       "6        [بریتانیا, زنان, سلامت زنان, حقوق زنان]   \n",
       "9   [پناهندگان و پناهجویان, ایالات متحده آمریکا]   \n",
       "10              [کشتی, ورزش ایران, المپیک, ورزش]   \n",
       "\n",
       "                                                 body  \n",
       "1   \\n\\n\\nیک نظرسنجی تازه جهانی نشان دهنده عمق اضط...  \n",
       "3   \\nسم شرینگهامبی‌بی‌سی\\n\\n\\nینس هاس هنوز اولین ...  \n",
       "6   برای پخش این فایل لطفا جاوا اسکریپت را فعال یا...  \n",
       "9   \\n\\n\\nجمع شدن حدود ۱۰ هزار پناهجو در اطراف پل ...  \n",
       "10  \\n\\n\\nمحمدهادی ساروی، با پیروزی در دیدار رده‌ب...  "
      ]
     },
     "execution_count": 9,
     "metadata": {},
     "output_type": "execute_result"
    }
   ],
   "source": [
    "df.head()"
   ]
  },
  {
   "cell_type": "code",
   "execution_count": 10,
   "id": "c8bca545-3144-4392-be94-ec4ab6a68b64",
   "metadata": {},
   "outputs": [],
   "source": [
    "# extract related_topics  \n",
    "related1 = df['related_topics'].apply(lambda x : x[0])\n",
    "related2 = df['related_topics'].apply(lambda x : x[1])"
   ]
  },
  {
   "cell_type": "code",
   "execution_count": 11,
   "id": "09254fcb-d190-4c21-a880-11c48ea10530",
   "metadata": {},
   "outputs": [],
   "source": [
    "# include related_topics with title \n",
    "X = related1 + ' ' + related2 + ' ' + df.title \n",
    "\n",
    "\n",
    "label_mapping = {'iran':0,'sport':1,'world':2}\n",
    "df = df.copy()\n",
    "df['category'] = df['category'].replace(label_mapping)\n",
    "\n",
    "y = df['category'].copy()"
   ]
  },
  {
   "cell_type": "code",
   "execution_count": 12,
   "id": "87e6c991-5879-4cbc-857e-3ea25bbaf62c",
   "metadata": {},
   "outputs": [
    {
     "data": {
      "text/plain": [
       "(2203,)"
      ]
     },
     "execution_count": 12,
     "metadata": {},
     "output_type": "execute_result"
    }
   ],
   "source": [
    "X.shape"
   ]
  },
  {
   "cell_type": "code",
   "execution_count": 13,
   "id": "c05a352f-5e3f-44db-bdcb-0497775e513d",
   "metadata": {},
   "outputs": [
    {
     "data": {
      "text/plain": [
       "(2203,)"
      ]
     },
     "execution_count": 13,
     "metadata": {},
     "output_type": "execute_result"
    }
   ],
   "source": [
    "y.shape"
   ]
  },
  {
   "cell_type": "code",
   "execution_count": 15,
   "id": "0118ee39-1b75-4772-8e57-be3f43e736da",
   "metadata": {},
   "outputs": [],
   "source": [
    "tf=TfidfVectorizer()\n",
    "  \n",
    "x=tf.fit_transform(X) "
   ]
  },
  {
   "cell_type": "code",
   "execution_count": 16,
   "id": "b83acf07-a2ab-41aa-ba99-5a172c231bf2",
   "metadata": {},
   "outputs": [
    {
     "data": {
      "text/plain": [
       "(2203, 4674)"
      ]
     },
     "execution_count": 16,
     "metadata": {},
     "output_type": "execute_result"
    }
   ],
   "source": [
    "x.shape"
   ]
  },
  {
   "cell_type": "code",
   "execution_count": 17,
   "id": "81089c0b-f45d-45aa-8be7-66b20c58fa7a",
   "metadata": {},
   "outputs": [],
   "source": [
    "# Split train and test set\n",
    "X_train , X_test , y_train , y_test = train_test_split(x,y,test_size=0.1)"
   ]
  },
  {
   "cell_type": "code",
   "execution_count": 18,
   "id": "64adbef1-66cc-4f5d-b968-0c62d643a8ad",
   "metadata": {},
   "outputs": [
    {
     "name": "stdout",
     "output_type": "stream",
     "text": [
      "nb test accuracy: 0.918552036199095\n"
     ]
    }
   ],
   "source": [
    "nb = MultinomialNB()\n",
    "\n",
    "# Model\n",
    "nb_model = nb.fit(X_train, y_train)\n",
    "\n",
    "# Predict\n",
    "nb_predict = nb.predict(X_test)\n",
    "\n",
    "# Accuracy\n",
    "nb_acc = accuracy_score(y_test,nb_predict)\n",
    "\n",
    "print('nb test accuracy:', nb_acc)"
   ]
  },
  {
   "cell_type": "code",
   "execution_count": 19,
   "id": "8d004b8d-3ef8-48ea-a044-5d4525e51b09",
   "metadata": {},
   "outputs": [],
   "source": [
    "cr = classification_report(y_test, nb_predict)"
   ]
  },
  {
   "cell_type": "code",
   "execution_count": 20,
   "id": "86762a07-68b4-429f-b1a1-c8a47d54d37f",
   "metadata": {},
   "outputs": [
    {
     "name": "stdout",
     "output_type": "stream",
     "text": [
      "              precision    recall  f1-score   support\n",
      "\n",
      "           0       0.90      0.95      0.92        74\n",
      "           1       0.96      0.96      0.96        82\n",
      "           2       0.89      0.83      0.86        65\n",
      "\n",
      "    accuracy                           0.92       221\n",
      "   macro avg       0.92      0.91      0.91       221\n",
      "weighted avg       0.92      0.92      0.92       221\n",
      "\n"
     ]
    }
   ],
   "source": [
    "print(cr)"
   ]
  },
  {
   "cell_type": "code",
   "execution_count": 21,
   "id": "ebf214b6-91db-4b0b-959a-af6a5a70a7a7",
   "metadata": {},
   "outputs": [
    {
     "name": "stdout",
     "output_type": "stream",
     "text": [
      "nb test accuracy: 0.9502262443438914\n"
     ]
    }
   ],
   "source": [
    "from sklearn.ensemble import RandomForestClassifier\n",
    "\n",
    "rf = RandomForestClassifier()\n",
    "\n",
    "# Model\n",
    "rf_model = rf.fit(X_train, y_train)\n",
    "\n",
    "# Predict\n",
    "rf_predict = rf.predict(X_test)\n",
    "\n",
    "# Accuracy\n",
    "nb_acc = accuracy_score(y_test,rf_predict)\n",
    "\n",
    "print('nb test accuracy:', nb_acc)\n"
   ]
  },
  {
   "cell_type": "code",
   "execution_count": 22,
   "id": "a8e80ed3-d4b0-42f6-a32a-55981a12caca",
   "metadata": {},
   "outputs": [],
   "source": [
    "cr = classification_report(y_test, rf_predict)"
   ]
  },
  {
   "cell_type": "code",
   "execution_count": 23,
   "id": "c73d9fad-a9c7-4aa5-95ee-60c9cad937e7",
   "metadata": {},
   "outputs": [
    {
     "name": "stdout",
     "output_type": "stream",
     "text": [
      "              precision    recall  f1-score   support\n",
      "\n",
      "           0       0.95      0.93      0.94        74\n",
      "           1       1.00      0.98      0.99        82\n",
      "           2       0.90      0.94      0.92        65\n",
      "\n",
      "    accuracy                           0.95       221\n",
      "   macro avg       0.95      0.95      0.95       221\n",
      "weighted avg       0.95      0.95      0.95       221\n",
      "\n"
     ]
    }
   ],
   "source": [
    "print(cr)"
   ]
  },
  {
   "cell_type": "code",
   "execution_count": 26,
   "id": "8b1dd3d7-c202-4b35-b16a-62fa605ece89",
   "metadata": {},
   "outputs": [
    {
     "name": "stdout",
     "output_type": "stream",
     "text": [
      "nb test accuracy: 0.9592760180995475\n"
     ]
    }
   ],
   "source": [
    "from sklearn.ensemble import GradientBoostingClassifier\n",
    "gbc = GradientBoostingClassifier()\n",
    "gbc.fit(X_train,y_train)\n",
    "\n",
    "gbc_predict = gbc.predict(X_test)\n",
    "\n",
    "gbc_acc = accuracy_score(y_test,gbc_predict)\n",
    "\n",
    "print('nb test accuracy:', gbc_acc)"
   ]
  },
  {
   "cell_type": "code",
   "execution_count": 29,
   "id": "e899bb5e-c155-4ba6-a043-60674d52fce8",
   "metadata": {},
   "outputs": [],
   "source": [
    "cr = classification_report(y_test, gbc_predict)"
   ]
  },
  {
   "cell_type": "code",
   "execution_count": 30,
   "id": "d848c929-cf8f-420a-bd2a-227ccb6640c7",
   "metadata": {},
   "outputs": [
    {
     "name": "stdout",
     "output_type": "stream",
     "text": [
      "              precision    recall  f1-score   support\n",
      "\n",
      "           0       0.96      0.93      0.95        74\n",
      "           1       1.00      0.99      0.99        82\n",
      "           2       0.91      0.95      0.93        65\n",
      "\n",
      "    accuracy                           0.96       221\n",
      "   macro avg       0.96      0.96      0.96       221\n",
      "weighted avg       0.96      0.96      0.96       221\n",
      "\n"
     ]
    }
   ],
   "source": [
    "print(cr)"
   ]
  }
 ],
 "metadata": {
  "kernelspec": {
   "display_name": "tf25",
   "language": "python",
   "name": "tf25"
  },
  "language_info": {
   "codemirror_mode": {
    "name": "ipython",
    "version": 3
   },
   "file_extension": ".py",
   "mimetype": "text/x-python",
   "name": "python",
   "nbconvert_exporter": "python",
   "pygments_lexer": "ipython3",
   "version": "3.8.10"
  }
 },
 "nbformat": 4,
 "nbformat_minor": 5
}
